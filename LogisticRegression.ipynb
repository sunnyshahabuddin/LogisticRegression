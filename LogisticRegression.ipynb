{
 "cells": [
  {
   "cell_type": "code",
   "execution_count": 17,
   "id": "ccb0fabf-d74a-4a8c-8e7b-9ac05133c81b",
   "metadata": {},
   "outputs": [],
   "source": [
    "import numpy as np\n",
    "import matplotlib.pyplot as plt"
   ]
  },
  {
   "cell_type": "code",
   "execution_count": 61,
   "id": "c513c5ca-e094-4abd-82ea-40b71534aacc",
   "metadata": {},
   "outputs": [],
   "source": [
    "def draw(x1,x2):\n",
    "    ln = plt.plot(x1,x2)\n",
    "def sigmoid(score):\n",
    "    return 1/(1 + np.exp(-score))\n",
    "def calculate_error(line_paramters,points,y):\n",
    "    m = points.shape[0]\n",
    "    p = sigmoid(points*line_paramters)\n",
    "    cross_entropy = -1*(np.log(p).T*y + np.log(1-p).T*(1-y))*(1/n)\n",
    "    return cross_entropy\n",
    "def gradient_descent(line_parameters, points,y,alpha):\n",
    "    n=points.shape[0]\n",
    "    for i in range(2000):\n",
    "        p=sigmoid(points*line_parameters)\n",
    "        gradient= points.T*(p-y)*(alpha/n)\n",
    "        line_parameters = line_parameters - gradient\n",
    "        w1=line_parameters.item(0)\n",
    "        w2=line_parameters.item(1)\n",
    "        b=line_parameters.item(2)\n",
    "        x1=np.array([points[:,0].min(), points[:,0].max()])\n",
    "        x2= -b/w2 + (x1*(-w1/w2))\n",
    "    draw(x1,x2) "
   ]
  },
  {
   "cell_type": "code",
   "execution_count": 62,
   "id": "c139e7ab-7b92-438a-985a-a69304a38c55",
   "metadata": {},
   "outputs": [],
   "source": [
    "n_pts = 100\n",
    "np.random.seed(0)\n",
    "bias = np.ones(n_pts)\n",
    "top_region = np.array([np.random.normal(10,2,n_pts), np.random.normal(12,2,n_pts),bias]).T\n",
    "bottom_region = np.array([np.random.normal(5,2,n_pts), np.random.normal(6,2,n_pts),bias]).T\n",
    "all_points = np.vstack((top_region,bottom_region))\n",
    "line_parameters = np.matrix([np.zeros(3)]).T\n",
    "#x1 = np.array([bottom_region[:,0].min(),top_region[:,0].max()])\n",
    "#x2 = -b/w2 + x1 *( - w1 / w2)\n",
    "y = np.array([np.zeros(n_pts),np.ones(n_pts)]).reshape(n_pts*2,1)"
   ]
  },
  {
   "cell_type": "code",
   "execution_count": 63,
   "id": "62fd61fe-10f7-4fa3-9594-a455708f7f76",
   "metadata": {
    "tags": []
   },
   "outputs": [
    {
     "data": {
      "image/png": "[encoded data removed]",
      "text/plain": [
       "<Figure size 288x288 with 1 Axes>"
      ]
     },
     "metadata": {
      "needs_background": "light"
     },
     "output_type": "display_data"
    }
   ],
   "source": [
    "_,ax = plt.subplots(figsize = (4,4))\n",
    "ax.scatter(top_region[:,0],top_region[:,1],color = 'r' )\n",
    "ax.scatter(bottom_region[:,0],bottom_region[:,1],color = 'b' )\n",
    "gradient_descent(line_parameters,all_points,y,0.06)\n",
    "plt.show()\n"
   ]
  },
  {
   "cell_type": "code",
   "execution_count": 21,
   "id": "39e2fcca-7f10-4e2e-b574-fa5da969180d",
   "metadata": {},
   "outputs": [
    {
     "name": "stdout",
     "output_type": "stream",
     "text": [
      "[[0.31787835]]\n"
     ]
    }
   ],
   "source": [
    "print(calculate_error(line_parameters,all_points,y))"
   ]
  },
  {
   "cell_type": "code",
   "execution_count": null,
   "id": "93675c10-7e6e-4c00-9526-d9c9ce258f1b",
   "metadata": {},
   "outputs": [],
   "source": []
  },
  {
   "cell_type": "code",
   "execution_count": null,
   "id": "11b680cc-3f8f-445d-8610-13cac1b09821",
   "metadata": {},
   "outputs": [],
   "source": []
  },
  {
   "cell_type": "code",
   "execution_count": null,
   "id": "209918bc-18bc-495f-a2ec-738d86e11193",
   "metadata": {},
   "outputs": [],
   "source": []
  }
 ],
 "metadata": {
  "kernelspec": {
   "display_name": "Python 3 (ipykernel)",
   "language": "python",
   "name": "python3"
  },
  "language_info": {
   "codemirror_mode": {
    "name": "ipython",
    "version": 3
   },
   "file_extension": ".py",
   "mimetype": "text/x-python",
   "name": "python",
   "nbconvert_exporter": "python",
   "pygments_lexer": "ipython3",
   "version": "3.9.7"
  }
 },
 "nbformat": 4,
 "nbformat_minor": 5
}
